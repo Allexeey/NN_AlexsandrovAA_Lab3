{
 "cells": [
  {
   "cell_type": "code",
   "execution_count": 1,
   "metadata": {
    "tags": []
   },
   "outputs": [],
   "source": [
    "# Импорт необходимых библиотек\n",
    "import os\n",
    "os.environ[\"KMP_DUPLICATE_LIB_OK\"]=\"TRUE\" # Фикс для графиков\n",
    "import numpy as np\n",
    "import tensorflow as tf\n",
    "import matplotlib\n",
    "import matplotlib.pyplot as plt\n",
    "import seaborn as sns\n",
    "import pickle\n",
    "import sys\n",
    "import heapq\n",
    "\n",
    "from tensorflow import keras\n",
    "from numpy.core.multiarray import dtype\n",
    "from keras.models import Sequential, load_model\n",
    "from keras.layers import Dense, LSTM, SimpleRNN, Bidirectional, Input\n",
    "from keras.optimizers import RMSprop\n",
    "from pylab import rcParams\n",
    "from keras.utils.vis_utils import plot_model\n",
    "np.random.seed(42)"
   ]
  },
  {
   "cell_type": "code",
   "execution_count": 2,
   "metadata": {},
   "outputs": [
    {
     "name": "stdout",
     "output_type": "stream",
     "text": [
      "Длина корпуса:  848472\n"
     ]
    }
   ],
   "source": [
    "# Чтение файла\n",
    "\n",
    "#Загрузим данные\n",
    "path = 'homer-gnedich.txt'\n",
    "text = open(path, \"r\", encoding='utf-8').read().lower()\n",
    "print ('Длина корпуса: ',len(text))"
   ]
  },
  {
   "cell_type": "code",
   "execution_count": 3,
   "metadata": {},
   "outputs": [
    {
     "name": "stdout",
     "output_type": "stream",
     "text": [
      "['\\n', ' ', '!', '\"', '(', ')', ',', '-', '.', '1', '2', '3', '4', '5', '6', '7', '8', ':', ';', '?', 'c', 'e', 'o', 'а', 'б', 'в', 'г', 'д', 'е', 'ж', 'з', 'и', 'й', 'к', 'л', 'м', 'н', 'о', 'п', 'р', 'с', 'т', 'у', 'ф', 'х', 'ц', 'ч', 'ш', 'щ', 'ъ', 'ы', 'ь', 'э', 'ю', 'я']\n",
      "Уникальных символов:  55\n"
     ]
    }
   ],
   "source": [
    "# Подготовка данных\n",
    "# Поиск всех уникальных символов в корпусе\n",
    "\n",
    "chars = sorted(list(set(text)))\n",
    "char_indices = dict((c, i) for i, c in enumerate(chars))\n",
    "indices_char = dict((i, c) for i, c in enumerate(chars))\n",
    "print(chars)\n",
    "print (\"Уникальных символов: \",len(chars))"
   ]
  },
  {
   "cell_type": "code",
   "execution_count": 4,
   "metadata": {},
   "outputs": [
    {
     "name": "stdout",
     "output_type": "stream",
     "text": [
      "Количество обучающих примеров:  282811\n"
     ]
    }
   ],
   "source": [
    "# Разделяем корпус на фрагменты по 39 символов, разделяя последовательности на 3 символа\n",
    "# Дополнительно сохраним следующий символ (тот, который нам нужно предсказать) для каждой последовательности\n",
    "\n",
    "SEQUENCE_LENGTH = 39 # длина последовательности\n",
    "step = 3\n",
    "sentences = []\n",
    "next_chars = []\n",
    "for i in range(0, len(text) - SEQUENCE_LENGTH, step):\n",
    "    sentences.append(text[i:i+SEQUENCE_LENGTH])\n",
    "    next_chars.append(text[i+SEQUENCE_LENGTH])\n",
    "print ('Количество обучающих примеров: ',len(sentences))"
   ]
  },
  {
   "cell_type": "code",
   "execution_count": 5,
   "metadata": {},
   "outputs": [],
   "source": [
    "# Создание объектов и меток.\n",
    "# Использование ранее сгенерированных последовательностей и символов, которые необходимо предсказать для создания (one-hot encoded vectors) векторов с однократным кодированием \n",
    "\n",
    "X = np.zeros((len(sentences), SEQUENCE_LENGTH, len(chars)), dtype=\"bool\")\n",
    "y = np.zeros((len(sentences), len(chars)), dtype=\"bool\")\n",
    "for i, sentence in enumerate(sentences):\n",
    "    for t, char in enumerate(sentence):\n",
    "        X[i, t, char_indices[char]] = 1\n",
    "    y[i, char_indices[next_chars[i]]] = 1"
   ]
  },
  {
   "cell_type": "code",
   "execution_count": 6,
   "metadata": {},
   "outputs": [
    {
     "data": {
      "text/plain": [
       "'ев, богиня, воспой ахиллеса, пелеева сы'"
      ]
     },
     "execution_count": 6,
     "metadata": {},
     "output_type": "execute_result"
    }
   ],
   "source": [
    "# Проверка работы функции\n",
    "\n",
    "sentences[2]"
   ]
  },
  {
   "cell_type": "code",
   "execution_count": 7,
   "metadata": {},
   "outputs": [
    {
     "data": {
      "text/plain": [
       "'н'"
      ]
     },
     "execution_count": 7,
     "metadata": {},
     "output_type": "execute_result"
    }
   ],
   "source": [
    "# Проверка работы функции\n",
    "\n",
    "next_chars[2]"
   ]
  },
  {
   "cell_type": "code",
   "execution_count": 8,
   "metadata": {},
   "outputs": [
    {
     "data": {
      "text/plain": [
       "array([False,  True, False, False, False, False, False, False, False,\n",
       "       False, False, False, False, False, False, False, False, False,\n",
       "       False, False, False, False, False, False, False, False, False,\n",
       "       False, False, False, False, False, False, False, False, False,\n",
       "       False, False, False, False, False, False, False, False, False,\n",
       "       False, False, False, False, False, False, False, False, False,\n",
       "       False])"
      ]
     },
     "execution_count": 8,
     "metadata": {},
     "output_type": "execute_result"
    }
   ],
   "source": [
    "# Проверка работы функции\n",
    "\n",
    "X[0][0]"
   ]
  },
  {
   "cell_type": "code",
   "execution_count": 9,
   "metadata": {},
   "outputs": [
    {
     "data": {
      "text/plain": [
       "array([False, False, False, False, False, False, False, False, False,\n",
       "       False, False, False, False, False, False, False, False, False,\n",
       "       False, False, False, False, False, False, False, False, False,\n",
       "       False,  True, False, False, False, False, False, False, False,\n",
       "       False, False, False, False, False, False, False, False, False,\n",
       "       False, False, False, False, False, False, False, False, False,\n",
       "       False])"
      ]
     },
     "execution_count": 9,
     "metadata": {},
     "output_type": "execute_result"
    }
   ],
   "source": [
    "# Проверка работы функции\n",
    "y[0]"
   ]
  },
  {
   "cell_type": "code",
   "execution_count": 10,
   "metadata": {},
   "outputs": [
    {
     "data": {
      "text/plain": [
       "(282811, 39, 55)"
      ]
     },
     "execution_count": 10,
     "metadata": {},
     "output_type": "execute_result"
    }
   ],
   "source": [
    "X.shape"
   ]
  },
  {
   "cell_type": "code",
   "execution_count": 11,
   "metadata": {},
   "outputs": [
    {
     "data": {
      "text/plain": [
       "(282811, 55)"
      ]
     },
     "execution_count": 11,
     "metadata": {},
     "output_type": "execute_result"
    }
   ],
   "source": [
    "y.shape"
   ]
  },
  {
   "cell_type": "code",
   "execution_count": 12,
   "metadata": {},
   "outputs": [
    {
     "name": "stdout",
     "output_type": "stream",
     "text": [
      "Model: \"sequential\"\n",
      "_________________________________________________________________\n",
      " Layer (type)                Output Shape              Param #   \n",
      "=================================================================\n",
      " lstm (LSTM)                 (None, 39, 128)           94208     \n",
      "                                                                 \n",
      " bidirectional (Bidirectiona  (None, 128)              98816     \n",
      " l)                                                              \n",
      "                                                                 \n",
      " dense (Dense)               (None, 55)                7095      \n",
      "                                                                 \n",
      "=================================================================\n",
      "Total params: 200,119\n",
      "Trainable params: 200,119\n",
      "Non-trainable params: 0\n",
      "_________________________________________________________________\n"
     ]
    },
    {
     "data": {
      "image/png": "[encoded data removed]",
      "text/plain": [
       "<IPython.core.display.Image object>"
      ]
     },
     "execution_count": 12,
     "metadata": {},
     "output_type": "execute_result"
    }
   ],
   "source": [
    "# Графическое представление нашей модели\n",
    "# Построим модель\n",
    "\n",
    "model = Sequential()\n",
    "model.add(Input((SEQUENCE_LENGTH, len(chars))))\n",
    "model.add(LSTM(units=128, input_shape=(SEQUENCE_LENGTH, len(chars)), return_sequences=True, go_backwards=True))\n",
    "model.add(Bidirectional(LSTM(units=64, input_shape=(SEQUENCE_LENGTH, len(chars)), return_sequences=False, go_backwards=True, recurrent_dropout=0.2)))\n",
    "model.add(Dense(units=len(chars), activation='softmax'))\n",
    "model.summary()\n",
    "keras.utils.plot_model(model, to_file='plot.png', show_layer_names=True)"
   ]
  },
  {
   "cell_type": "code",
   "execution_count": 13,
   "metadata": {},
   "outputs": [
    {
     "name": "stdout",
     "output_type": "stream",
     "text": [
      "Epoch 1/10\n",
      "984/984 [==============================] - 157s 156ms/step - loss: 2.2433 - accuracy: 0.3348 - val_loss: 2.0444 - val_accuracy: 0.3712\n",
      "Epoch 2/10\n",
      "984/984 [==============================] - 159s 161ms/step - loss: 1.8764 - accuracy: 0.4302 - val_loss: 1.8776 - val_accuracy: 0.4298\n",
      "Epoch 3/10\n",
      "984/984 [==============================] - 163s 165ms/step - loss: 1.7637 - accuracy: 0.4601 - val_loss: 1.7997 - val_accuracy: 0.4485\n",
      "Epoch 4/10\n",
      "984/984 [==============================] - 164s 167ms/step - loss: 1.7035 - accuracy: 0.4757 - val_loss: 1.7593 - val_accuracy: 0.4583\n",
      "Epoch 5/10\n",
      "984/984 [==============================] - 159s 162ms/step - loss: 1.6664 - accuracy: 0.4845 - val_loss: 1.7305 - val_accuracy: 0.4701\n",
      "Epoch 6/10\n",
      "984/984 [==============================] - 162s 164ms/step - loss: 1.6366 - accuracy: 0.4930 - val_loss: 1.7176 - val_accuracy: 0.4737\n",
      "Epoch 7/10\n",
      "984/984 [==============================] - 159s 162ms/step - loss: 1.6162 - accuracy: 0.4980 - val_loss: 1.6897 - val_accuracy: 0.4816\n",
      "Epoch 8/10\n",
      "984/984 [==============================] - 161s 164ms/step - loss: 1.5983 - accuracy: 0.5032 - val_loss: 1.6931 - val_accuracy: 0.4910\n",
      "Epoch 9/10\n",
      "984/984 [==============================] - 160s 163ms/step - loss: 1.5840 - accuracy: 0.5065 - val_loss: 1.6743 - val_accuracy: 0.4891\n",
      "Epoch 10/10\n",
      "984/984 [==============================] - 156s 159ms/step - loss: 1.5696 - accuracy: 0.5102 - val_loss: 1.6683 - val_accuracy: 0.4876\n"
     ]
    }
   ],
   "source": [
    "# Обучение модели\n",
    "\n",
    "optimizer = RMSprop(learning_rate= 0.01)\n",
    "model.compile(loss='categorical_crossentropy', optimizer=optimizer, metrics=['accuracy'])\n",
    "\n",
    "history = model.fit(X, y, validation_split=0.11, batch_size=256, epochs=10, shuffle=True ).history"
   ]
  },
  {
   "cell_type": "code",
   "execution_count": 14,
   "metadata": {},
   "outputs": [],
   "source": [
    "# Сохранение модели\n",
    "\n",
    "model.save('keras_model'+str(SEQUENCE_LENGTH)+'.h5')\n",
    "pickle.dump(history, open('history'+str(SEQUENCE_LENGTH)+'.p', 'wb'))"
   ]
  },
  {
   "cell_type": "code",
   "execution_count": 15,
   "metadata": {},
   "outputs": [],
   "source": [
    "# Загрузка сохраненных весов\n",
    "\n",
    "model = load_model('keras_model'+str(SEQUENCE_LENGTH)+'.h5')"
   ]
  },
  {
   "cell_type": "code",
   "execution_count": 16,
   "metadata": {},
   "outputs": [],
   "source": [
    "# Загрузка сохраненной истории\n",
    "\n",
    "history = pickle.load(open('history'+str(SEQUENCE_LENGTH)+'.p', 'rb'))"
   ]
  },
  {
   "cell_type": "code",
   "execution_count": 17,
   "metadata": {},
   "outputs": [
    {
     "data": {
      "image/png": "[encoded data removed]",
      "text/plain": [
       "<Figure size 640x480 with 1 Axes>"
      ]
     },
     "metadata": {},
     "output_type": "display_data"
    }
   ],
   "source": [
    "# Оценка и построение графиков\n",
    "# График правильности модели\n",
    "\n",
    "plt.plot(history['accuracy'])\n",
    "plt.plot(history['val_accuracy'])\n",
    "plt.title('model accuracy')\n",
    "plt.ylabel('accuracy')\n",
    "plt.xlabel('epoch')\n",
    "plt.legend(['train', 'test'], loc='upper left');\n",
    "plt.grid()\n",
    "plt.savefig(\"01.Accuracy.png\")\n",
    "plt.show()"
   ]
  },
  {
   "cell_type": "code",
   "execution_count": 18,
   "metadata": {},
   "outputs": [
    {
     "data": {
      "image/png": "[encoded data removed]",
      "text/plain": [
       "<Figure size 640x480 with 1 Axes>"
      ]
     },
     "metadata": {},
     "output_type": "display_data"
    },
    {
     "data": {
      "text/plain": [
       "<Figure size 640x480 with 0 Axes>"
      ]
     },
     "metadata": {},
     "output_type": "display_data"
    }
   ],
   "source": [
    "# График потерь\n",
    "\n",
    "plt.plot(history['loss'])\n",
    "plt.plot(history['val_loss'])\n",
    "plt.title('model loss')\n",
    "plt.ylabel('loss')\n",
    "plt.xlabel('epoch')\n",
    "plt.legend(['train', 'test'], loc='upper left');\n",
    "plt.grid()\n",
    "plt.show()\n",
    "plt.savefig(\"02.Loss.png\")"
   ]
  },
  {
   "cell_type": "code",
   "execution_count": 19,
   "metadata": {},
   "outputs": [],
   "source": [
    "# Тестирование\n",
    "\n",
    "def prepare_input(text):\n",
    "    x = np.zeros((1, SEQUENCE_LENGTH, len(chars)))\n",
    "    for t, char in enumerate(text):\n",
    "        x[0, t, char_indices[char]] = 1\n",
    "    return x\n",
    "# Последовательности должны иметь длину 40 символов и тензор формы (1, 40, 55)"
   ]
  },
  {
   "cell_type": "code",
   "execution_count": 20,
   "metadata": {},
   "outputs": [],
   "source": [
    "# Пример функции\n",
    "# Эта функция позволяет нам спросить нашу модель, какие следующие вероятные символы\n",
    "\n",
    "def sample(preds, top_n = 3):\n",
    "    preds = np.asarray(preds).astype('float64')\n",
    "    preds = np.log(preds)\n",
    "    exp_preds = np.exp(preds)\n",
    "    preds = exp_preds / np.sum(exp_preds)\n",
    "    return heapq.nlargest(top_n, range(len(preds)), preds.take)"
   ]
  },
  {
   "cell_type": "code",
   "execution_count": 21,
   "metadata": {},
   "outputs": [],
   "source": [
    "# Функция прогнозирования\n",
    "\n",
    "def predict_completion(text):\n",
    "    original_text = text\n",
    "    generalised = text\n",
    "    completion = ''\n",
    "    while True:\n",
    "        x = prepare_input(text)\n",
    "        preds = model.predict(x, verbose=0)[0]\n",
    "        next_index = sample(preds, top_n=1)[0]\n",
    "        next_char = indices_char[next_index]\n",
    "\n",
    "        text = text[1:] + next_char\n",
    "        completion += next_char\n",
    "\n",
    "        if len(original_text + completion) + 2 > len(original_text) and next_char == ' ':\n",
    "            return completion"
   ]
  },
  {
   "cell_type": "code",
   "execution_count": 40,
   "metadata": {},
   "outputs": [],
   "source": [
    "# Этот метод оборачивает все и позволяет нам прогнозировать несколько завершений\n",
    "\n",
    "def predict_completions(text, n = 3):\n",
    "    x = prepare_input(text)\n",
    "    preds = model.predict(x, verbose=0)[0]\n",
    "    next_indices = sample(preds, n)\n",
    "    return [indices_char[idx] + predict_completion(text[1:] + indices_char[idx]) for idx in next_indices]"
   ]
  },
  {
   "cell_type": "code",
   "execution_count": 41,
   "metadata": {},
   "outputs": [],
   "source": [
    "quotes = [\n",
    "    # Примеры из датасета\n",
    "    \"Виду его и величеству: бога, казалось, он видит.\", \n",
    "    \"Так говорил, - и они лошаков и волов подъяремных\",\n",
    "    \"В день же десятый, лишь, свет разливая, Денница возникла,\",\n",
    "    \"Убран лежит на одре. С восходом Зари возвращаясь,\",\n",
    "    # Примеры не из датасета\n",
    "    \"Предложение - это слово или несколько, связанных между собой по смыслу и выражающих законченную мысль.\",\n",
    "    \"Цвели яблони, и пахло медом. Низко груши, да достать легко.\",\n",
    "    \"А что? - Да завтра хозяин за сеном едет. Так надо вперед забегать да лаять.\",\n",
    "    \"Она предупредила его: В моей стране все переписывается по несколько раз.\"\n",
    "]"
   ]
  },
  {
   "cell_type": "code",
   "execution_count": 45,
   "metadata": {},
   "outputs": [
    {
     "name": "stdout",
     "output_type": "stream",
     "text": [
      "виду его и величеству: бога, казалось, \n",
      "['и ', 'которые ', 'подвигнулось ', 'с ', 'на ']\n",
      "\n",
      "так говорил, - и они лошаков и волов по\n",
      "['лотив ', 'разил ', 'добный ', 'стигнулось ', 'ток ']\n",
      "\n",
      "в день же десятый, лишь, свет разливая,\n",
      "[' с ', '\\n ', '-\\n ', 'и ', 'а ']\n",
      "\n",
      "убран лежит на одре. с восходом зари во\n",
      "['скликнули ', 'звратился ', 'противный ', 'лным ', 'инствовал ']\n",
      "\n",
      "предложение - это слово или несколько, \n",
      "['страшных ', 'и ', 'подвигнулось ', 'возвратился ', 'который ']\n",
      "\n",
      "цвели яблони, и пахло медом. низко груш\n",
      "['ительный ', 'у ', 'ени ', 'ал ', 'ный ']\n",
      "\n",
      "а что? - да завтра хозяин за сеном едет\n",
      "[' и ', '.\\n ', ';\\n ', ', ', '\\n ']\n",
      "\n",
      "она предупредила его: в моей стране все\n",
      "[' подвигнулось ', 'м ', 'х ', 'гда ', 'ю ']\n",
      "\n"
     ]
    }
   ],
   "source": [
    "# Смотрим на предсказания (совпадут ли они с нашими предложениями?)\n",
    "\n",
    "for q in quotes:\n",
    "    seq = q[:SEQUENCE_LENGTH].lower()\n",
    "    print (seq)\n",
    "    print (predict_completions(seq, 5))\n",
    "    print ()"
   ]
  }
 ],
 "metadata": {
  "kernelspec": {
   "display_name": "baseroot",
   "language": "python",
   "name": "python3"
  },
  "language_info": {
   "codemirror_mode": {
    "name": "ipython",
    "version": 3
   },
   "file_extension": ".py",
   "mimetype": "text/x-python",
   "name": "python",
   "nbconvert_exporter": "python",
   "pygments_lexer": "ipython3",
   "version": "3.9.15 (main, Nov 24 2022, 14:39:17) [MSC v.1916 64 bit (AMD64)]"
  },
  "orig_nbformat": 4,
  "vscode": {
   "interpreter": {
    "hash": "fa49d1befdbf9dbe355503282ccdbe8b88e13ea7c4034c2f1b64400f6ab27c9f"
   }
  }
 },
 "nbformat": 4,
 "nbformat_minor": 2
}
